{
 "cells": [
  {
   "cell_type": "markdown",
   "metadata": {},
   "source": [
    "# CityBikes"
   ]
  },
  {
   "cell_type": "markdown",
   "metadata": {},
   "source": [
    "Send a request to CityBikes for the city of your choice. "
   ]
  },
  {
   "cell_type": "code",
   "execution_count": 4,
   "metadata": {
    "tags": []
   },
   "outputs": [],
   "source": [
    "import os\n",
    "import requests\n",
    "import pandas as pd\n",
    "\n",
    "\n",
    "location = \"ascoli-piceno\"\n",
    "\n",
    "url = f\"https://api.citybik.es/v2/networks/{location}\"\n",
    "\n",
    "# dic for headers\n",
    "headers = {\"Accept\": \"application/json\"}\n",
    "\n",
    "# Add the API key to the headers\n",
    "\n",
    "# Send the GET request\n",
    "response = requests.get(url, headers=headers)\n",
    "\n",
    "# Handle the response\n",
    "if response.status_code == 200:\n",
    "    data = response.json()\n",
    "    # Process the data as needed\n",
    "    # print(data)\n",
    "else:\n",
    "    print(\"Error:\", response.status_code)\n",
    "    \n",
    "result = response.json()\n",
    "\n",
    "\n",
    "    "
   ]
  },
  {
   "cell_type": "markdown",
   "metadata": {},
   "source": [
    "Parse through the response to get the details you want for the bike stations in that city (latitude, longitude, number of bikes). "
   ]
  },
  {
   "cell_type": "code",
   "execution_count": 9,
   "metadata": {},
   "outputs": [
    {
     "name": "stdout",
     "output_type": "stream",
     "text": [
      "    latitude  longitude  num_bikes station_name\n",
      "0  42.860237  13.577385          7     Federici\n",
      "1  42.854606  13.566613         16       Romana\n",
      "2  42.853631  13.575540         28         Roma\n",
      "3  42.853096  13.579359         19   De Gasperi\n",
      "4  42.862345  13.720207         43     Stazione\n"
     ]
    }
   ],
   "source": [
    "# print(result)\n",
    "stations = result['network']['stations']\n",
    "# print(result)\n",
    "final_stations_info = []\n",
    "for a_station in stations:\n",
    "    station_info = {}\n",
    "    station_info['latitude'] = a_station['latitude']\n",
    "    station_info['longitude'] = a_station['longitude']\n",
    "    station_info['num_bikes'] = a_station['free_bikes']\n",
    "    station_info['station_name'] = a_station['name']\n",
    "    final_stations_info.append(station_info)\n",
    "    \n",
    "bike_station_df = pd.DataFrame(final_stations_info)\n",
    "\n",
    "#i had to put some random values in number of bikes just for practice because all are 0\n",
    "bike_station_df['num_bikes'] = np.random.randint(1, 50, bike_station_df.shape[0])\n",
    "\n",
    "print(bike_station_df)\n"
   ]
  },
  {
   "cell_type": "markdown",
   "metadata": {},
   "source": [
    "Put your parsed results into a DataFrame."
   ]
  },
  {
   "cell_type": "code",
   "execution_count": 10,
   "metadata": {},
   "outputs": [
    {
     "name": "stdout",
     "output_type": "stream",
     "text": [
      "    latitude  longitude  num_bikes station_name\n",
      "0  42.860237  13.577385          5     Federici\n",
      "1  42.854606  13.566613          6       Romana\n",
      "2  42.853631  13.575540         43         Roma\n",
      "3  42.853096  13.579359         11   De Gasperi\n",
      "4  42.862345  13.720207         11     Stazione\n"
     ]
    }
   ],
   "source": [
    "\n",
    "bike_station_df = pd.DataFrame(final_stations_info)\n",
    "\n",
    "#i had to put some random values in number of bikes just for practice because all are 0\n",
    "bike_station_df['num_bikes'] = np.random.randint(1, 50, bike_station_df.shape[0])\n",
    "\n",
    "print(bike_station_df)"
   ]
  },
  {
   "cell_type": "code",
   "execution_count": 11,
   "metadata": {},
   "outputs": [],
   "source": [
    "bike_station_df.to_csv('citybike.csv', index=False)"
   ]
  }
 ],
 "metadata": {
  "kernelspec": {
   "display_name": "Python 3 (ipykernel)",
   "language": "python",
   "name": "python3"
  },
  "language_info": {
   "codemirror_mode": {
    "name": "ipython",
    "version": 3
   },
   "file_extension": ".py",
   "mimetype": "text/x-python",
   "name": "python",
   "nbconvert_exporter": "python",
   "pygments_lexer": "ipython3",
   "version": "3.9.12"
  }
 },
 "nbformat": 4,
 "nbformat_minor": 4
}
